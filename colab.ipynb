{
  "nbformat": 4,
  "nbformat_minor": 0,
  "metadata": {
    "colab": {
      "name": "colab.ipynb",
      "private_outputs": true,
      "provenance": [],
      "collapsed_sections": [],
      "machine_shape": "hm"
    },
    "kernelspec": {
      "name": "python3",
      "display_name": "Python 3"
    },
    "accelerator": "GPU"
  },
  "cells": [
    {
      "cell_type": "markdown",
      "metadata": {
        "id": "H5ZmYdgckezf"
      },
      "source": [
        "# [GPU NYOLONG]"
      ]
    },
    {
      "cell_type": "code",
      "metadata": {
        "id": "RqOOYftskezi",
        "cellView": "form"
      },
      "source": [
        "#@title ce gp\n",
        "\n",
        "! nvidia-smi"
      ],
      "execution_count": null,
      "outputs": []
    },
    {
      "cell_type": "code",
      "metadata": {
        "id": "xZVXCosLsOA-",
        "cellView": "form"
      },
      "source": [
        "#@title **LANSUNG JAAH**\n",
        "\n",
        "im\n",
        " \n",
        "#Les G!!!\n",
        "! #@title GAKEMANG",
        "! wg\n",
        "! ch\n",
        " \n",
        "get\n",
        " \n",
      ],
      "execution_count": null,
      "outputs": []
    }
  ]
}
